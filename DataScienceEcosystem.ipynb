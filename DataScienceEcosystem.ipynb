{
 "cells": [
  {
   "cell_type": "markdown",
   "id": "18ee8a98-435d-4bc3-ab03-b98bf0123b7c",
   "metadata": {},
   "source": [
    "# Data Science Tools and Ecosystem"
   ]
  },
  {
   "cell_type": "markdown",
   "id": "9b0fedd0-531c-48f2-9b00-dfd6a1b10640",
   "metadata": {},
   "source": [
    " In this notebook, Data Science Tools and Ecosystem are summarized.\r\n"
   ]
  },
  {
   "cell_type": "markdown",
   "id": "ea4b55e3-0abf-494f-a565-31e964a0f7e0",
   "metadata": {},
   "source": [
    "Some of the popular languages that Data Scientists use are: \n",
    "+ python \n",
    "- R\n",
    "* javascript"
   ]
  },
  {
   "cell_type": "markdown",
   "id": "c018da56-5b5a-4659-8161-20e0215b43e4",
   "metadata": {},
   "source": [
    "Some of the commonly used libraries used by Data Scientists include:\n",
    "+ panda\n",
    "+ numpy\n",
    "+ tensorflow"
   ]
  },
  {
   "cell_type": "markdown",
   "id": "fe1a929f-9b4e-45d0-8d22-27138e819bd9",
   "metadata": {},
   "source": [
    "***Objectives:***\n",
    "- List popular languages for Data Science\n",
    "- Some of the commonly used libraries by data Scientists\n",
    "- different heading  styles \n"
   ]
  },
  {
   "cell_type": "markdown",
   "id": "35773b66-ced2-426e-941b-502818a47d09",
   "metadata": {},
   "source": [
    "| Data Science Tools |\r\n",
    "|--------------------|\r\n",
    "| Jupyter Notebook   |\r\n",
    "| RStudio            |\r\n",
    "| VS Code            |"
   ]
  },
  {
   "cell_type": "markdown",
   "id": "864e3a93-5aad-4d3a-9148-4dae8bb6e88e",
   "metadata": {},
   "source": [
    "### Below are a few examples of evaluating arithmetic expressions in Python"
   ]
  },
  {
   "cell_type": "code",
   "execution_count": 15,
   "id": "18fae023-b30b-4c05-ab8e-6342b350e705",
   "metadata": {},
   "outputs": [
    {
     "data": {
      "text/plain": [
       "17"
      ]
     },
     "execution_count": 15,
     "metadata": {},
     "output_type": "execute_result"
    }
   ],
   "source": [
    "#This a simple arithmetic expression to mutiply then add integers\n",
    "(3*4)+5"
   ]
  },
  {
   "cell_type": "code",
   "execution_count": 17,
   "id": "38cebc14-0f42-4af7-96e5-6b02cada8c17",
   "metadata": {},
   "outputs": [
    {
     "data": {
      "text/plain": [
       "3.3333333333333335"
      ]
     },
     "execution_count": 17,
     "metadata": {},
     "output_type": "execute_result"
    }
   ],
   "source": [
    "#This will convert 200 minutes to hours by diving by 60\n",
    "min=200\n",
    "hour=min/60\n",
    "hour"
   ]
  },
  {
   "cell_type": "markdown",
   "id": "a4cde312-077b-4da3-bb51-829813bd360b",
   "metadata": {},
   "source": [
    "## Author\n",
    "MUTTEVI KRISHNA CHAITANAYA"
   ]
  }
 ],
 "metadata": {
  "kernelspec": {
   "display_name": "Python 3 (ipykernel)",
   "language": "python",
   "name": "python3"
  },
  "language_info": {
   "codemirror_mode": {
    "name": "ipython",
    "version": 3
   },
   "file_extension": ".py",
   "mimetype": "text/x-python",
   "name": "python",
   "nbconvert_exporter": "python",
   "pygments_lexer": "ipython3",
   "version": "3.11.7"
  }
 },
 "nbformat": 4,
 "nbformat_minor": 5
}
